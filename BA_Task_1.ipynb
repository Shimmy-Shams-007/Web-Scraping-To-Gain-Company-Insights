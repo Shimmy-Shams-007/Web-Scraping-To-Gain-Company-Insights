{
 "cells": [
  {
   "cell_type": "markdown",
   "source": [
    "# Task 1\n",
    "\n",
    "---\n",
    "\n",
    "## Web scraping and analysis\n",
    "\n",
    "This Jupyter notebook includes some code to get you started with web scraping. We will use a package called `BeautifulSoup` to collect the data from the web. Once you've collected your data and saved it into a local `.csv` file you should start with your analysis.\n",
    "\n",
    "### Scraping data from Skytrax\n",
    "\n",
    "If you visit [https://www.airlinequality.com] you can see that there is a lot of data there. For this task, we are only interested in reviews related to British Airways and the Airline itself.\n",
    "\n",
    "If you navigate to this link: [https://www.airlinequality.com/airline-reviews/british-airways] you will see this data. Now, we can use `Python` and `BeautifulSoup` to collect all the links to the reviews and then to collect the text data on each of the individual review links."
   ],
   "metadata": {
    "collapsed": false
   }
  },
  {
   "cell_type": "code",
   "execution_count": 17,
   "outputs": [],
   "source": [
    "# Importing all the necessary libraries\n",
    "import requests\n",
    "from bs4 import BeautifulSoup\n",
    "import json\n",
    "import pandas as pd\n",
    "import numpy as np\n",
    "import seaborn as sns\n",
    "import matplotlib.pyplot as plt\n",
    "import re\n",
    "import nltk\n",
    "from nltk.stem import WordNetLemmatizer\n",
    "from nltk.corpus import stopwords\n",
    "from nltk.tokenize import word_tokenize\n",
    "from PIL import Image\n",
    "from collections import Counter\n",
    "import warnings\n",
    "warnings.filterwarnings('ignore')\n",
    "plt.style.use('ggplot')\n",
    "sw = stopwords.words('english')\n",
    "lemma = WordNetLemmatizer()"
   ],
   "metadata": {
    "collapsed": false
   }
  },
  {
   "cell_type": "code",
   "execution_count": 18,
   "outputs": [],
   "source": [
    "# Function to scrape the British Airways Airline reviews.\n",
    "def scrape_data(pages):\n",
    "    reviews = []\n",
    "\n",
    "    for i in range (1, pages + 1):\n",
    "        print (f\"Scraping page {i}\")\n",
    "        page_size = 100\n",
    "        base_url = \"https://www.airlinequality.com/airline-reviews/british-airways\"\n",
    "\n",
    "        # Create a URL to collect links from paginates data\n",
    "        url = f\"{base_url}/page/{i}/?sortby=post_date%3ADesc&pagesize={page_size}\"\n",
    "\n",
    "        # Collect the HTML Data from this page\n",
    "        response = requests.get(url)\n",
    "\n",
    "        # Parsing the content\n",
    "        content = response.content\n",
    "        parsed_content = BeautifulSoup(content, 'html.parser')\n",
    "        rating_score = parsed_content.find_all(\"div\", {\"class\": \"rating-10\"})[1:]\n",
    "        profile = parsed_content.find_all(\"div\", {\"class\": \"body\"})\n",
    "\n",
    "        for index, passenger in enumerate (profile):\n",
    "            profile = {}\n",
    "            rating = rating_score[index].get_text()\n",
    "            header = passenger.find(\"h2\", {\"class\": \"text_header\"}).get_text()\n",
    "            loc_time = passenger.find(\"h3\", {\"class\": \"text_sub_header\"}).get_text()\n",
    "            review = passenger.find(\"div\", {\"class\": \"text_content\"}).get_text()\n",
    "            table = passenger.find('table', {\"class\": \"review-ratings\"})\n",
    "            if table is not None:\n",
    "                recommend = table.find_all('td', {\"class\": \"review-value\"})[-1].get_text()\n",
    "            else:\n",
    "                recommend = \"N/A\"\n",
    "\n",
    "            profile.update([('header', header),\n",
    "                            ('review', review),\n",
    "                            ('loc_time', loc_time),\n",
    "                            ('rating', rating),\n",
    "                            ('recommend', recommend)])\n",
    "            reviews.append(profile)\n",
    "        print (f\"    ---> {len(reviews)} total reviews\")\n",
    "    return reviews"
   ],
   "metadata": {
    "collapsed": false
   }
  },
  {
   "cell_type": "code",
   "execution_count": 19,
   "outputs": [
    {
     "name": "stdout",
     "output_type": "stream",
     "text": [
      "Scraping page 1\n",
      "    ---> 100 total reviews\n",
      "Scraping page 2\n",
      "    ---> 200 total reviews\n",
      "Scraping page 3\n",
      "    ---> 300 total reviews\n",
      "Scraping page 4\n",
      "    ---> 400 total reviews\n",
      "Scraping page 5\n",
      "    ---> 500 total reviews\n",
      "Scraping page 6\n",
      "    ---> 600 total reviews\n",
      "Scraping page 7\n",
      "    ---> 700 total reviews\n",
      "Scraping page 8\n",
      "    ---> 800 total reviews\n",
      "Scraping page 9\n",
      "    ---> 900 total reviews\n",
      "Scraping page 10\n",
      "    ---> 1000 total reviews\n",
      "Scraping page 11\n",
      "    ---> 1100 total reviews\n",
      "Scraping page 12\n",
      "    ---> 1200 total reviews\n",
      "Scraping page 13\n",
      "    ---> 1300 total reviews\n",
      "Scraping page 14\n",
      "    ---> 1400 total reviews\n",
      "Scraping page 15\n",
      "    ---> 1500 total reviews\n",
      "Scraping page 16\n",
      "    ---> 1600 total reviews\n",
      "Scraping page 17\n",
      "    ---> 1700 total reviews\n",
      "Scraping page 18\n",
      "    ---> 1800 total reviews\n",
      "Scraping page 19\n",
      "    ---> 1900 total reviews\n",
      "Scraping page 20\n",
      "    ---> 2000 total reviews\n",
      "Scraping page 21\n",
      "    ---> 2100 total reviews\n",
      "Scraping page 22\n",
      "    ---> 2200 total reviews\n",
      "Scraping page 23\n",
      "    ---> 2300 total reviews\n",
      "Scraping page 24\n",
      "    ---> 2400 total reviews\n",
      "Scraping page 25\n",
      "    ---> 2500 total reviews\n",
      "Scraping page 26\n",
      "    ---> 2600 total reviews\n",
      "Scraping page 27\n",
      "    ---> 2700 total reviews\n",
      "Scraping page 28\n",
      "    ---> 2800 total reviews\n",
      "Scraping page 29\n",
      "    ---> 2900 total reviews\n",
      "Scraping page 30\n",
      "    ---> 3000 total reviews\n",
      "Scraping page 31\n",
      "    ---> 3100 total reviews\n",
      "Scraping page 32\n",
      "    ---> 3200 total reviews\n",
      "Scraping page 33\n",
      "    ---> 3300 total reviews\n",
      "Scraping page 34\n",
      "    ---> 3400 total reviews\n",
      "Scraping page 35\n",
      "    ---> 3464 total reviews\n"
     ]
    },
    {
     "data": {
      "text/plain": "                            header  \\\n0              \"Excellent service\"   \n1           \"Sound dinner service\"   \n2     \"A really excellent journey\"   \n3    \"flight was one of the worst\"   \n4  \"there is a race to the bottom\"   \n\n                                              review  \\\n0  ✅ Trip Verified | Excellent service both on th...   \n1  ✅ Trip Verified |  Good lounge at Cape Town. O...   \n2  ✅ Trip Verified |  A really excellent journey....   \n3  ✅ Trip Verified |  This flight was one of the ...   \n4  Not Verified | It seems that there is a race t...   \n\n                                            loc_time    rating recommend  \n0  \\n\\nIan Sinclair (United Kingdom) 24th January...  \\n9/10\\n       yes  \n1     \\n\\nE Smyth (United Kingdom) 24th January 2023  \\n9/10\\n       yes  \n2     \\n\\n Horton (United Kingdom) 23rd January 2023  \\n9/10\\n       yes  \n3  \\n\\nMarian Benedikovic (United Kingdom) 21st J...  \\n2/10\\n        no  \n4  \\n\\nThomas Kowalski (United States) 19th Janua...  \\n3/10\\n        no  ",
      "text/html": "<div>\n<style scoped>\n    .dataframe tbody tr th:only-of-type {\n        vertical-align: middle;\n    }\n\n    .dataframe tbody tr th {\n        vertical-align: top;\n    }\n\n    .dataframe thead th {\n        text-align: right;\n    }\n</style>\n<table border=\"1\" class=\"dataframe\">\n  <thead>\n    <tr style=\"text-align: right;\">\n      <th></th>\n      <th>header</th>\n      <th>review</th>\n      <th>loc_time</th>\n      <th>rating</th>\n      <th>recommend</th>\n    </tr>\n  </thead>\n  <tbody>\n    <tr>\n      <th>0</th>\n      <td>\"Excellent service\"</td>\n      <td>✅ Trip Verified | Excellent service both on th...</td>\n      <td>\\n\\nIan Sinclair (United Kingdom) 24th January...</td>\n      <td>\\n9/10\\n</td>\n      <td>yes</td>\n    </tr>\n    <tr>\n      <th>1</th>\n      <td>\"Sound dinner service\"</td>\n      <td>✅ Trip Verified |  Good lounge at Cape Town. O...</td>\n      <td>\\n\\nE Smyth (United Kingdom) 24th January 2023</td>\n      <td>\\n9/10\\n</td>\n      <td>yes</td>\n    </tr>\n    <tr>\n      <th>2</th>\n      <td>\"A really excellent journey\"</td>\n      <td>✅ Trip Verified |  A really excellent journey....</td>\n      <td>\\n\\n Horton (United Kingdom) 23rd January 2023</td>\n      <td>\\n9/10\\n</td>\n      <td>yes</td>\n    </tr>\n    <tr>\n      <th>3</th>\n      <td>\"flight was one of the worst\"</td>\n      <td>✅ Trip Verified |  This flight was one of the ...</td>\n      <td>\\n\\nMarian Benedikovic (United Kingdom) 21st J...</td>\n      <td>\\n2/10\\n</td>\n      <td>no</td>\n    </tr>\n    <tr>\n      <th>4</th>\n      <td>\"there is a race to the bottom\"</td>\n      <td>Not Verified | It seems that there is a race t...</td>\n      <td>\\n\\nThomas Kowalski (United States) 19th Janua...</td>\n      <td>\\n3/10\\n</td>\n      <td>no</td>\n    </tr>\n  </tbody>\n</table>\n</div>"
     },
     "execution_count": 19,
     "metadata": {},
     "output_type": "execute_result"
    }
   ],
   "source": [
    "# Creating the dataset of reviews\n",
    "reviews_list = scrape_data(35)\n",
    "df = pd.DataFrame(reviews_list)\n",
    "df.head()"
   ],
   "metadata": {
    "collapsed": false
   }
  },
  {
   "cell_type": "markdown",
   "source": [
    "Congratulations! Now you have your dataset for this task! The loops above collected 1000 reviews by iterating through the paginated pages on the website. However, if you want to collect more data, try increasing the number of pages!\n",
    "\n",
    " The next thing that you should do is clean this data to remove any unnecessary text from each of the rows. For example, \"✅ Trip Verified\" can be removed from each row if it exists, as it's not relevant to what we want to investigate.\n",
    "\n",
    "---\n",
    "\n",
    "# Cleaning the data"
   ],
   "metadata": {
    "collapsed": false
   }
  },
  {
   "cell_type": "code",
   "execution_count": 20,
   "outputs": [],
   "source": [
    "# Function to clean the rating column\n",
    "def clean_rating(corpus):\n",
    "    word = re.sub('\\n',' ', corpus)                     # Remove the new line characters\n",
    "    word = word.split('/')[0]                       # Get the actual rating\n",
    "    return word\n",
    "\n",
    "\n",
    "# Function to clean the header column\n",
    "def clean_header(corpus):\n",
    "    word = corpus.lower()                            # Converting content to lowercase\n",
    "    word = re.sub('[^a-zA-Z0-9]',' ', word)          # Removing any special characters\n",
    "    word = word_tokenize(word)\n",
    "    word = ' '.join(lemma.lemmatize(i) for i in word if i not in sw)\n",
    "    return word\n",
    "\n",
    "\n",
    "# Function to clean the review column\n",
    "def clean_review(corpus):\n",
    "    word = corpus.split('|')                          # Removing the characters before |\n",
    "    if len(word) > 1:\n",
    "        word = word[1]\n",
    "    else:\n",
    "        word = word[0]\n",
    "    word = word.lower()                               # Converting to lowercase\n",
    "    word = re.sub('[^a-zA-Z0-9]',' ', word)           # Removing any special characters\n",
    "    word = word_tokenize(word)\n",
    "    word = ' '.join(lemma.lemmatize(i) for i in word if i not in sw)\n",
    "    return word\n",
    "\n",
    "\n",
    "# Function to clean the location and time column\n",
    "def clean_loc_time(corpus):\n",
    "    full = corpus.split('(')\n",
    "\n",
    "    if len(full) > 1:\n",
    "        full = full [1]\n",
    "    else:\n",
    "        full = full[0]\n",
    "\n",
    "    full = full.split(')')                              # Getting the location and date\n",
    "    return full\n",
    "\n",
    "\n",
    "# Applying all the clean functions together for their respective columns\n",
    "def clean_scraped_data(df):\n",
    "    df['header'] = df['header'].apply(clean_header)\n",
    "    df['rating'] = df['rating'].apply(clean_rating)\n",
    "    df['review'] = df['review'].apply(clean_review)\n",
    "    split = pd.DataFrame(df['loc_time'].apply(clean_loc_time).tolist(), columns=['country', 'date'])\n",
    "    df = pd.concat([df, split], axis=1)\n",
    "    df['date'] = pd.to_datetime(df['date'])\n",
    "    df.drop(['loc_time'], axis=1, inplace=True)\n",
    "    return df\n",
    "\n"
   ],
   "metadata": {
    "collapsed": false
   }
  },
  {
   "cell_type": "code",
   "execution_count": 21,
   "outputs": [
    {
     "name": "stdout",
     "output_type": "stream",
     "text": [
      "Scraping page 1\n",
      "    ---> 100 total reviews\n",
      "Scraping page 2\n",
      "    ---> 200 total reviews\n",
      "Scraping page 3\n",
      "    ---> 300 total reviews\n",
      "Scraping page 4\n",
      "    ---> 400 total reviews\n",
      "Scraping page 5\n",
      "    ---> 500 total reviews\n",
      "Scraping page 6\n",
      "    ---> 600 total reviews\n",
      "Scraping page 7\n",
      "    ---> 700 total reviews\n",
      "Scraping page 8\n",
      "    ---> 800 total reviews\n",
      "Scraping page 9\n",
      "    ---> 900 total reviews\n",
      "Scraping page 10\n",
      "    ---> 1000 total reviews\n",
      "Scraping page 11\n",
      "    ---> 1100 total reviews\n",
      "Scraping page 12\n",
      "    ---> 1200 total reviews\n",
      "Scraping page 13\n",
      "    ---> 1300 total reviews\n",
      "Scraping page 14\n",
      "    ---> 1400 total reviews\n",
      "Scraping page 15\n",
      "    ---> 1500 total reviews\n",
      "Scraping page 16\n",
      "    ---> 1600 total reviews\n",
      "Scraping page 17\n",
      "    ---> 1700 total reviews\n",
      "Scraping page 18\n",
      "    ---> 1800 total reviews\n",
      "Scraping page 19\n",
      "    ---> 1900 total reviews\n",
      "Scraping page 20\n",
      "    ---> 2000 total reviews\n",
      "Scraping page 21\n",
      "    ---> 2100 total reviews\n",
      "Scraping page 22\n",
      "    ---> 2200 total reviews\n",
      "Scraping page 23\n",
      "    ---> 2300 total reviews\n",
      "Scraping page 24\n",
      "    ---> 2400 total reviews\n",
      "Scraping page 25\n",
      "    ---> 2500 total reviews\n",
      "Scraping page 26\n",
      "    ---> 2600 total reviews\n",
      "Scraping page 27\n",
      "    ---> 2700 total reviews\n",
      "Scraping page 28\n",
      "    ---> 2800 total reviews\n",
      "Scraping page 29\n",
      "    ---> 2900 total reviews\n",
      "Scraping page 30\n",
      "    ---> 3000 total reviews\n",
      "Scraping page 31\n",
      "    ---> 3100 total reviews\n",
      "Scraping page 32\n",
      "    ---> 3200 total reviews\n",
      "Scraping page 33\n",
      "    ---> 3300 total reviews\n",
      "Scraping page 34\n",
      "    ---> 3400 total reviews\n",
      "Scraping page 35\n",
      "    ---> 3464 total reviews\n"
     ]
    },
    {
     "data": {
      "text/plain": "                     header  \\\n0         excellent service   \n1      sound dinner service   \n2  really excellent journey   \n3          flight one worst   \n4               race bottom   \n\n                                              review rating recommend  \\\n0  excellent service ground board first class pro...      9       yes   \n1  good lounge cape town time departure drink hig...      9       yes   \n2  really excellent journey lounge overcrowded la...      9       yes   \n3  flight one worst ever life wanted pamper bough...      2        no   \n4  seems race bottom amongst airline even check b...      3        no   \n\n          country       date  \n0  United Kingdom 2023-01-24  \n1  United Kingdom 2023-01-24  \n2  United Kingdom 2023-01-23  \n3  United Kingdom 2023-01-21  \n4   United States 2023-01-19  ",
      "text/html": "<div>\n<style scoped>\n    .dataframe tbody tr th:only-of-type {\n        vertical-align: middle;\n    }\n\n    .dataframe tbody tr th {\n        vertical-align: top;\n    }\n\n    .dataframe thead th {\n        text-align: right;\n    }\n</style>\n<table border=\"1\" class=\"dataframe\">\n  <thead>\n    <tr style=\"text-align: right;\">\n      <th></th>\n      <th>header</th>\n      <th>review</th>\n      <th>rating</th>\n      <th>recommend</th>\n      <th>country</th>\n      <th>date</th>\n    </tr>\n  </thead>\n  <tbody>\n    <tr>\n      <th>0</th>\n      <td>excellent service</td>\n      <td>excellent service ground board first class pro...</td>\n      <td>9</td>\n      <td>yes</td>\n      <td>United Kingdom</td>\n      <td>2023-01-24</td>\n    </tr>\n    <tr>\n      <th>1</th>\n      <td>sound dinner service</td>\n      <td>good lounge cape town time departure drink hig...</td>\n      <td>9</td>\n      <td>yes</td>\n      <td>United Kingdom</td>\n      <td>2023-01-24</td>\n    </tr>\n    <tr>\n      <th>2</th>\n      <td>really excellent journey</td>\n      <td>really excellent journey lounge overcrowded la...</td>\n      <td>9</td>\n      <td>yes</td>\n      <td>United Kingdom</td>\n      <td>2023-01-23</td>\n    </tr>\n    <tr>\n      <th>3</th>\n      <td>flight one worst</td>\n      <td>flight one worst ever life wanted pamper bough...</td>\n      <td>2</td>\n      <td>no</td>\n      <td>United Kingdom</td>\n      <td>2023-01-21</td>\n    </tr>\n    <tr>\n      <th>4</th>\n      <td>race bottom</td>\n      <td>seems race bottom amongst airline even check b...</td>\n      <td>3</td>\n      <td>no</td>\n      <td>United States</td>\n      <td>2023-01-19</td>\n    </tr>\n  </tbody>\n</table>\n</div>"
     },
     "execution_count": 21,
     "metadata": {},
     "output_type": "execute_result"
    }
   ],
   "source": [
    "# Creating the dataset of reviews\n",
    "reviews_list = scrape_data(35)\n",
    "df = pd.DataFrame(reviews_list)\n",
    "df = clean_scraped_data(df)\n",
    "df.head()"
   ],
   "metadata": {
    "collapsed": false
   }
  },
  {
   "cell_type": "markdown",
   "source": [
    "---\n",
    "### Checking for Missing Values"
   ],
   "metadata": {
    "collapsed": false
   }
  },
  {
   "cell_type": "code",
   "execution_count": 22,
   "outputs": [
    {
     "data": {
      "text/plain": "header       0\nreview       0\nrating       0\nrecommend    0\ncountry      0\ndate         2\ndtype: int64"
     },
     "execution_count": 22,
     "metadata": {},
     "output_type": "execute_result"
    }
   ],
   "source": [
    "df.isna().sum()"
   ],
   "metadata": {
    "collapsed": false
   }
  },
  {
   "cell_type": "code",
   "execution_count": 23,
   "outputs": [],
   "source": [
    "df.to_csv(\"data/BA_cleaned_reviews.csv\")"
   ],
   "metadata": {
    "collapsed": false
   }
  },
  {
   "cell_type": "markdown",
   "source": [
    "---\n",
    "# Data Analysis"
   ],
   "metadata": {
    "collapsed": false
   }
  },
  {
   "cell_type": "code",
   "execution_count": 30,
   "outputs": [],
   "source": [
    "# Converting any numerical features to int\n",
    "df = df[df['rating']!='\\r                         na\\r                     ']\n",
    "df ['rating'] = df['rating'].astype('Int64')"
   ],
   "metadata": {
    "collapsed": false
   }
  },
  {
   "cell_type": "code",
   "execution_count": 31,
   "outputs": [
    {
     "data": {
      "text/plain": "header               object\nreview               object\nrating                Int64\nrecommend            object\ncountry              object\ndate         datetime64[ns]\ndtype: object"
     },
     "execution_count": 31,
     "metadata": {},
     "output_type": "execute_result"
    }
   ],
   "source": [
    "df.dtypes"
   ],
   "metadata": {
    "collapsed": false
   }
  },
  {
   "cell_type": "code",
   "execution_count": 32,
   "outputs": [
    {
     "name": "stdout",
     "output_type": "stream",
     "text": [
      "<class 'pandas.core.frame.DataFrame'>\n",
      "Int64Index: 3459 entries, 0 to 3463\n",
      "Data columns (total 6 columns):\n",
      " #   Column     Non-Null Count  Dtype         \n",
      "---  ------     --------------  -----         \n",
      " 0   header     3459 non-null   object        \n",
      " 1   review     3459 non-null   object        \n",
      " 2   rating     3459 non-null   Int64         \n",
      " 3   recommend  3459 non-null   object        \n",
      " 4   country    3459 non-null   object        \n",
      " 5   date       3457 non-null   datetime64[ns]\n",
      "dtypes: Int64(1), datetime64[ns](1), object(4)\n",
      "memory usage: 192.5+ KB\n"
     ]
    }
   ],
   "source": [
    "df.info()"
   ],
   "metadata": {
    "collapsed": false
   }
  },
  {
   "cell_type": "markdown",
   "source": [
    "The primary purpose of this project is to determine what is not going well with the customers and change it. Indicating that we need to figure out the overall rating and"
   ],
   "metadata": {
    "collapsed": false
   }
  },
  {
   "cell_type": "code",
   "execution_count": 38,
   "outputs": [
    {
     "name": "stdout",
     "output_type": "stream",
     "text": [
      "AxesSubplot(0.125,0.11;0.775x0.77)\n"
     ]
    },
    {
     "data": {
      "text/plain": "<Figure size 1000x500 with 1 Axes>",
      "image/png": "[encoded data removed]"
     },
     "metadata": {},
     "output_type": "display_data"
    }
   ],
   "source": [
    "count_rating_reviews = df['rating'].value_counts(dropna=False).sort_index().plot(kind='bar', figsize=(10,5))\n",
    "count_rating_reviews.set (title = \"Count of Reviews by Rating\",\n",
    "                          xlabel = \"Rating Value\",\n",
    "                          ylabel = \"Total Number of Ratings Received\")\n",
    "print(count_rating_reviews)\n",
    "plt.show()"
   ],
   "metadata": {
    "collapsed": false
   }
  },
  {
   "cell_type": "markdown",
   "source": [
    "### Creating a Pie Chart showing the total number of recommendations"
   ],
   "metadata": {
    "collapsed": false
   }
  },
  {
   "cell_type": "code",
   "execution_count": 39,
   "outputs": [
    {
     "data": {
      "text/plain": "Text(0.5, 1.0, 'Pie Chart of the Total Recommendations by Category')"
     },
     "execution_count": 39,
     "metadata": {},
     "output_type": "execute_result"
    },
    {
     "data": {
      "text/plain": "<Figure size 640x480 with 1 Axes>",
      "image/png": "[encoded data removed]"
     },
     "metadata": {},
     "output_type": "display_data"
    }
   ],
   "source": [
    "fig = plt.figure()\n",
    "recommend_yes = df[df['recommend'] == 'yes']\n",
    "recommend_no = df[df['recommend'] == 'no']\n",
    "\n",
    "x = [len(recommend_yes), len(recommend_no)]\n",
    "plt.pie(x, labels = ['YES', 'NO'], startangle=90, autopct='%.f%%')\n",
    "plt.axis('equal')\n",
    "plt.title('Pie Chart of the Total Recommendations by Category')"
   ],
   "metadata": {
    "collapsed": false
   }
  },
  {
   "cell_type": "code",
   "execution_count": null,
   "outputs": [],
   "source": [],
   "metadata": {
    "collapsed": false
   }
  }
 ],
 "metadata": {
  "kernelspec": {
   "display_name": "Python 3",
   "language": "python",
   "name": "python3"
  },
  "language_info": {
   "codemirror_mode": {
    "name": "ipython",
    "version": 2
   },
   "file_extension": ".py",
   "mimetype": "text/x-python",
   "name": "python",
   "nbconvert_exporter": "python",
   "pygments_lexer": "ipython2",
   "version": "2.7.6"
  }
 },
 "nbformat": 4,
 "nbformat_minor": 0
}
